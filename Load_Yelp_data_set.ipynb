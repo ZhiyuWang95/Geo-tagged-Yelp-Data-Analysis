{
 "cells": [
  {
   "cell_type": "markdown",
   "metadata": {},
   "source": [
    "# Preprocessing the Yelp dataset"
   ]
  },
  {
   "cell_type": "code",
   "execution_count": 72,
   "metadata": {},
   "outputs": [],
   "source": [
    "import pandas as pd"
   ]
  },
  {
   "cell_type": "code",
   "execution_count": 81,
   "metadata": {},
   "outputs": [],
   "source": [
    "business_json_path = '/Users/zhiyuwang/Desktop/Desktop/tmp/yelp_dataset/business.json'\n",
    "review_json_path = '/Users/zhiyuwang/Desktop/Desktop/tmp/yelp_dataset/review.json'\n",
    "df_b=pd.read_json(business_json_path, lines=True)"
   ]
  },
  {
   "cell_type": "markdown",
   "metadata": {},
   "source": [
    "**Clean the business.json file**\n",
    "* Include only current opened restaurants\n",
    "* we only want to focus on the restaurants data"
   ]
  },
  {
   "cell_type": "code",
   "execution_count": 82,
   "metadata": {},
   "outputs": [],
   "source": [
    "# 1= open, 0 = closed\n",
    "df_b = df_b[df_b['is_open']==1]\n",
    "df_b = df_b[df_b['categories'].str.contains('Restaurants|Food', case=False, na=False)]"
   ]
  },
  {
   "cell_type": "code",
   "execution_count": 83,
   "metadata": {},
   "outputs": [
    {
     "name": "stdout",
     "output_type": "stream",
     "text": [
      "address\n",
      "attributes\n",
      "business_id\n",
      "categories\n",
      "city\n",
      "hours\n",
      "is_open\n",
      "latitude\n",
      "longitude\n",
      "name\n",
      "postal_code\n",
      "review_count\n",
      "stars\n",
      "state\n"
     ]
    }
   ],
   "source": [
    "# all columns in the business\n",
    "for col in df_b.columns:\n",
    "    print(col)"
   ]
  },
  {
   "cell_type": "markdown",
   "metadata": {},
   "source": [
    "**Drop some irrelevant columns**\n",
    "* As we are curiously about geo info of the restaurants, so hours, is_open, review_counts can be dropped.\n",
    "* We will need to keep the business_id to merge with the reviews.json"
   ]
  },
  {
   "cell_type": "code",
   "execution_count": 84,
   "metadata": {},
   "outputs": [],
   "source": [
    "drop_columns = ['hours','is_open','review_count']\n",
    "df_b = df_b.drop(drop_columns, axis=1)"
   ]
  },
  {
   "cell_type": "markdown",
   "metadata": {},
   "source": [
    "**not all cities have enough records, so we would mainly focus on the top 4 cities with most restaurants.**"
   ]
  },
  {
   "cell_type": "code",
   "execution_count": 85,
   "metadata": {},
   "outputs": [
    {
     "data": {
      "text/plain": [
       "Toronto      6847\n",
       "Las Vegas    5621\n",
       "Phoenix      3604\n",
       "Montréal     3453\n",
       "Name: city, dtype: int64"
      ]
     },
     "execution_count": 85,
     "metadata": {},
     "output_type": "execute_result"
    }
   ],
   "source": [
    "df_b.city.value_counts()[:4]"
   ]
  },
  {
   "cell_type": "code",
   "execution_count": 86,
   "metadata": {},
   "outputs": [],
   "source": [
    "vegas_business= df_b[df_b['city'].str.contains('Las Vegas', case=False, na=False)]"
   ]
  },
  {
   "cell_type": "code",
   "execution_count": 87,
   "metadata": {},
   "outputs": [],
   "source": [
    "size = 1000000\n",
    "review = pd.read_json(review_json_path,lines = True, chunksize = size)                   "
   ]
  },
  {
   "cell_type": "code",
   "execution_count": null,
   "metadata": {},
   "outputs": [],
   "source": []
  },
  {
   "cell_type": "code",
   "execution_count": 89,
   "metadata": {},
   "outputs": [
    {
     "name": "stdout",
     "output_type": "stream",
     "text": [
      "173120 out of 1,000,000 related reviews\n",
      "176413 out of 1,000,000 related reviews\n",
      "174232 out of 1,000,000 related reviews\n",
      "155655 out of 1,000,000 related reviews\n",
      "180634 out of 1,000,000 related reviews\n",
      "167825 out of 1,000,000 related reviews\n",
      "124741 out of 1,000,000 related reviews\n"
     ]
    }
   ],
   "source": [
    "chunk_list = []\n",
    "drop_columns = ['review_id', 'user_id','funny','cool']\n",
    "for chunk_review in review:\n",
    "    chunk_review = chunk_review.drop(['review_id','funny','cool'], axis=1)\n",
    "    chunk_review = chunk_review.rename(columns={'stars': 'review_stars'})\n",
    "    chunk_merged = pd.merge(vegas_business, chunk_review, on='business_id', how='inner')\n",
    "    print(f\"{chunk_merged.shape[0]} out of {size:,} related reviews\")\n",
    "    chunk_list.append(chunk_merged)\n",
    "    \n",
    "df = pd.concat(chunk_list, join='outer',axis=0)"
   ]
  },
  {
   "cell_type": "code",
   "execution_count": 90,
   "metadata": {},
   "outputs": [],
   "source": [
    "csv_name = \"yelp_reviews_food_categories.csv\"\n",
    "df.to_csv(csv_name, index=False)"
   ]
  },
  {
   "cell_type": "code",
   "execution_count": null,
   "metadata": {},
   "outputs": [],
   "source": []
  }
 ],
 "metadata": {
  "kernelspec": {
   "display_name": "Python 3",
   "language": "python",
   "name": "python3"
  },
  "language_info": {
   "codemirror_mode": {
    "name": "ipython",
    "version": 3
   },
   "file_extension": ".py",
   "mimetype": "text/x-python",
   "name": "python",
   "nbconvert_exporter": "python",
   "pygments_lexer": "ipython3",
   "version": "3.7.3"
  }
 },
 "nbformat": 4,
 "nbformat_minor": 2
}
